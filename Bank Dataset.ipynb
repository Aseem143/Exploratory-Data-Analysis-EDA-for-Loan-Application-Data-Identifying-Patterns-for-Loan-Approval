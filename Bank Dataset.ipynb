{
 "cells": [
  {
   "cell_type": "code",
   "execution_count": 1,
   "id": "c5dd666f",
   "metadata": {},
   "outputs": [],
   "source": [
    "#Importing Neccessary Libraries such as Numpy,Pandas,Matplotlib,seaborn\n",
    "\n",
    "import numpy as np   \n",
    "import pandas as pd\n",
    "import matplotlib.pyplot as plt\n",
    "import seaborn as sns"
   ]
  },
  {
   "cell_type": "code",
   "execution_count": 2,
   "id": "f393cf06",
   "metadata": {},
   "outputs": [],
   "source": [
    "# Ignoring warnings \n",
    "\n",
    "import warnings   \n",
    "warnings.filterwarnings(\"ignore\")"
   ]
  },
  {
   "cell_type": "code",
   "execution_count": 3,
   "id": "8d0db326",
   "metadata": {},
   "outputs": [],
   "source": [
    "pd.set_option('display.max_rows', 500)\n",
    "pd.set_option('display.max_columns', 500)\n"
   ]
  },
  {
   "cell_type": "code",
   "execution_count": 4,
   "id": "eba94aca",
   "metadata": {},
   "outputs": [
    {
     "ename": "FileNotFoundError",
     "evalue": "[Errno 2] No such file or directory: 'D:\\\\Downloads1\\\\Bank Dataset\\\\application_data.csv'",
     "output_type": "error",
     "traceback": [
      "\u001b[1;31m---------------------------------------------------------------------------\u001b[0m",
      "\u001b[1;31mFileNotFoundError\u001b[0m                         Traceback (most recent call last)",
      "Cell \u001b[1;32mIn[4], line 1\u001b[0m\n\u001b[1;32m----> 1\u001b[0m app\u001b[38;5;241m=\u001b[39m\u001b[43mpd\u001b[49m\u001b[38;5;241;43m.\u001b[39;49m\u001b[43mread_csv\u001b[49m\u001b[43m(\u001b[49m\u001b[38;5;124;43mr\u001b[39;49m\u001b[38;5;124;43m\"\u001b[39;49m\u001b[38;5;124;43mD:\u001b[39;49m\u001b[38;5;124;43m\\\u001b[39;49m\u001b[38;5;124;43mDownloads1\u001b[39;49m\u001b[38;5;124;43m\\\u001b[39;49m\u001b[38;5;124;43mBank Dataset\u001b[39;49m\u001b[38;5;124;43m\\\u001b[39;49m\u001b[38;5;124;43mapplication_data.csv\u001b[39;49m\u001b[38;5;124;43m\"\u001b[39;49m\u001b[43m)\u001b[49m\n\u001b[0;32m      2\u001b[0m prev_app\u001b[38;5;241m=\u001b[39mpd\u001b[38;5;241m.\u001b[39mread_csv(\u001b[38;5;124mr\u001b[39m\u001b[38;5;124m\"\u001b[39m\u001b[38;5;124mD:\u001b[39m\u001b[38;5;124m\\\u001b[39m\u001b[38;5;124mDownloads1\u001b[39m\u001b[38;5;124m\\\u001b[39m\u001b[38;5;124mBank Dataset\u001b[39m\u001b[38;5;124m\\\u001b[39m\u001b[38;5;124mprevious_application.csv\u001b[39m\u001b[38;5;124m\"\u001b[39m)\n",
      "File \u001b[1;32mD:\\aseem pasha\\Documents\\lib\\site-packages\\pandas\\util\\_decorators.py:211\u001b[0m, in \u001b[0;36mdeprecate_kwarg.<locals>._deprecate_kwarg.<locals>.wrapper\u001b[1;34m(*args, **kwargs)\u001b[0m\n\u001b[0;32m    209\u001b[0m     \u001b[38;5;28;01melse\u001b[39;00m:\n\u001b[0;32m    210\u001b[0m         kwargs[new_arg_name] \u001b[38;5;241m=\u001b[39m new_arg_value\n\u001b[1;32m--> 211\u001b[0m \u001b[38;5;28;01mreturn\u001b[39;00m func(\u001b[38;5;241m*\u001b[39margs, \u001b[38;5;241m*\u001b[39m\u001b[38;5;241m*\u001b[39mkwargs)\n",
      "File \u001b[1;32mD:\\aseem pasha\\Documents\\lib\\site-packages\\pandas\\util\\_decorators.py:331\u001b[0m, in \u001b[0;36mdeprecate_nonkeyword_arguments.<locals>.decorate.<locals>.wrapper\u001b[1;34m(*args, **kwargs)\u001b[0m\n\u001b[0;32m    325\u001b[0m \u001b[38;5;28;01mif\u001b[39;00m \u001b[38;5;28mlen\u001b[39m(args) \u001b[38;5;241m>\u001b[39m num_allow_args:\n\u001b[0;32m    326\u001b[0m     warnings\u001b[38;5;241m.\u001b[39mwarn(\n\u001b[0;32m    327\u001b[0m         msg\u001b[38;5;241m.\u001b[39mformat(arguments\u001b[38;5;241m=\u001b[39m_format_argument_list(allow_args)),\n\u001b[0;32m    328\u001b[0m         \u001b[38;5;167;01mFutureWarning\u001b[39;00m,\n\u001b[0;32m    329\u001b[0m         stacklevel\u001b[38;5;241m=\u001b[39mfind_stack_level(),\n\u001b[0;32m    330\u001b[0m     )\n\u001b[1;32m--> 331\u001b[0m \u001b[38;5;28;01mreturn\u001b[39;00m func(\u001b[38;5;241m*\u001b[39margs, \u001b[38;5;241m*\u001b[39m\u001b[38;5;241m*\u001b[39mkwargs)\n",
      "File \u001b[1;32mD:\\aseem pasha\\Documents\\lib\\site-packages\\pandas\\io\\parsers\\readers.py:950\u001b[0m, in \u001b[0;36mread_csv\u001b[1;34m(filepath_or_buffer, sep, delimiter, header, names, index_col, usecols, squeeze, prefix, mangle_dupe_cols, dtype, engine, converters, true_values, false_values, skipinitialspace, skiprows, skipfooter, nrows, na_values, keep_default_na, na_filter, verbose, skip_blank_lines, parse_dates, infer_datetime_format, keep_date_col, date_parser, dayfirst, cache_dates, iterator, chunksize, compression, thousands, decimal, lineterminator, quotechar, quoting, doublequote, escapechar, comment, encoding, encoding_errors, dialect, error_bad_lines, warn_bad_lines, on_bad_lines, delim_whitespace, low_memory, memory_map, float_precision, storage_options)\u001b[0m\n\u001b[0;32m    935\u001b[0m kwds_defaults \u001b[38;5;241m=\u001b[39m _refine_defaults_read(\n\u001b[0;32m    936\u001b[0m     dialect,\n\u001b[0;32m    937\u001b[0m     delimiter,\n\u001b[1;32m   (...)\u001b[0m\n\u001b[0;32m    946\u001b[0m     defaults\u001b[38;5;241m=\u001b[39m{\u001b[38;5;124m\"\u001b[39m\u001b[38;5;124mdelimiter\u001b[39m\u001b[38;5;124m\"\u001b[39m: \u001b[38;5;124m\"\u001b[39m\u001b[38;5;124m,\u001b[39m\u001b[38;5;124m\"\u001b[39m},\n\u001b[0;32m    947\u001b[0m )\n\u001b[0;32m    948\u001b[0m kwds\u001b[38;5;241m.\u001b[39mupdate(kwds_defaults)\n\u001b[1;32m--> 950\u001b[0m \u001b[38;5;28;01mreturn\u001b[39;00m \u001b[43m_read\u001b[49m\u001b[43m(\u001b[49m\u001b[43mfilepath_or_buffer\u001b[49m\u001b[43m,\u001b[49m\u001b[43m \u001b[49m\u001b[43mkwds\u001b[49m\u001b[43m)\u001b[49m\n",
      "File \u001b[1;32mD:\\aseem pasha\\Documents\\lib\\site-packages\\pandas\\io\\parsers\\readers.py:605\u001b[0m, in \u001b[0;36m_read\u001b[1;34m(filepath_or_buffer, kwds)\u001b[0m\n\u001b[0;32m    602\u001b[0m _validate_names(kwds\u001b[38;5;241m.\u001b[39mget(\u001b[38;5;124m\"\u001b[39m\u001b[38;5;124mnames\u001b[39m\u001b[38;5;124m\"\u001b[39m, \u001b[38;5;28;01mNone\u001b[39;00m))\n\u001b[0;32m    604\u001b[0m \u001b[38;5;66;03m# Create the parser.\u001b[39;00m\n\u001b[1;32m--> 605\u001b[0m parser \u001b[38;5;241m=\u001b[39m TextFileReader(filepath_or_buffer, \u001b[38;5;241m*\u001b[39m\u001b[38;5;241m*\u001b[39mkwds)\n\u001b[0;32m    607\u001b[0m \u001b[38;5;28;01mif\u001b[39;00m chunksize \u001b[38;5;129;01mor\u001b[39;00m iterator:\n\u001b[0;32m    608\u001b[0m     \u001b[38;5;28;01mreturn\u001b[39;00m parser\n",
      "File \u001b[1;32mD:\\aseem pasha\\Documents\\lib\\site-packages\\pandas\\io\\parsers\\readers.py:1442\u001b[0m, in \u001b[0;36mTextFileReader.__init__\u001b[1;34m(self, f, engine, **kwds)\u001b[0m\n\u001b[0;32m   1439\u001b[0m     \u001b[38;5;28mself\u001b[39m\u001b[38;5;241m.\u001b[39moptions[\u001b[38;5;124m\"\u001b[39m\u001b[38;5;124mhas_index_names\u001b[39m\u001b[38;5;124m\"\u001b[39m] \u001b[38;5;241m=\u001b[39m kwds[\u001b[38;5;124m\"\u001b[39m\u001b[38;5;124mhas_index_names\u001b[39m\u001b[38;5;124m\"\u001b[39m]\n\u001b[0;32m   1441\u001b[0m \u001b[38;5;28mself\u001b[39m\u001b[38;5;241m.\u001b[39mhandles: IOHandles \u001b[38;5;241m|\u001b[39m \u001b[38;5;28;01mNone\u001b[39;00m \u001b[38;5;241m=\u001b[39m \u001b[38;5;28;01mNone\u001b[39;00m\n\u001b[1;32m-> 1442\u001b[0m \u001b[38;5;28mself\u001b[39m\u001b[38;5;241m.\u001b[39m_engine \u001b[38;5;241m=\u001b[39m \u001b[38;5;28;43mself\u001b[39;49m\u001b[38;5;241;43m.\u001b[39;49m\u001b[43m_make_engine\u001b[49m\u001b[43m(\u001b[49m\u001b[43mf\u001b[49m\u001b[43m,\u001b[49m\u001b[43m \u001b[49m\u001b[38;5;28;43mself\u001b[39;49m\u001b[38;5;241;43m.\u001b[39;49m\u001b[43mengine\u001b[49m\u001b[43m)\u001b[49m\n",
      "File \u001b[1;32mD:\\aseem pasha\\Documents\\lib\\site-packages\\pandas\\io\\parsers\\readers.py:1735\u001b[0m, in \u001b[0;36mTextFileReader._make_engine\u001b[1;34m(self, f, engine)\u001b[0m\n\u001b[0;32m   1733\u001b[0m     \u001b[38;5;28;01mif\u001b[39;00m \u001b[38;5;124m\"\u001b[39m\u001b[38;5;124mb\u001b[39m\u001b[38;5;124m\"\u001b[39m \u001b[38;5;129;01mnot\u001b[39;00m \u001b[38;5;129;01min\u001b[39;00m mode:\n\u001b[0;32m   1734\u001b[0m         mode \u001b[38;5;241m+\u001b[39m\u001b[38;5;241m=\u001b[39m \u001b[38;5;124m\"\u001b[39m\u001b[38;5;124mb\u001b[39m\u001b[38;5;124m\"\u001b[39m\n\u001b[1;32m-> 1735\u001b[0m \u001b[38;5;28mself\u001b[39m\u001b[38;5;241m.\u001b[39mhandles \u001b[38;5;241m=\u001b[39m \u001b[43mget_handle\u001b[49m\u001b[43m(\u001b[49m\n\u001b[0;32m   1736\u001b[0m \u001b[43m    \u001b[49m\u001b[43mf\u001b[49m\u001b[43m,\u001b[49m\n\u001b[0;32m   1737\u001b[0m \u001b[43m    \u001b[49m\u001b[43mmode\u001b[49m\u001b[43m,\u001b[49m\n\u001b[0;32m   1738\u001b[0m \u001b[43m    \u001b[49m\u001b[43mencoding\u001b[49m\u001b[38;5;241;43m=\u001b[39;49m\u001b[38;5;28;43mself\u001b[39;49m\u001b[38;5;241;43m.\u001b[39;49m\u001b[43moptions\u001b[49m\u001b[38;5;241;43m.\u001b[39;49m\u001b[43mget\u001b[49m\u001b[43m(\u001b[49m\u001b[38;5;124;43m\"\u001b[39;49m\u001b[38;5;124;43mencoding\u001b[39;49m\u001b[38;5;124;43m\"\u001b[39;49m\u001b[43m,\u001b[49m\u001b[43m \u001b[49m\u001b[38;5;28;43;01mNone\u001b[39;49;00m\u001b[43m)\u001b[49m\u001b[43m,\u001b[49m\n\u001b[0;32m   1739\u001b[0m \u001b[43m    \u001b[49m\u001b[43mcompression\u001b[49m\u001b[38;5;241;43m=\u001b[39;49m\u001b[38;5;28;43mself\u001b[39;49m\u001b[38;5;241;43m.\u001b[39;49m\u001b[43moptions\u001b[49m\u001b[38;5;241;43m.\u001b[39;49m\u001b[43mget\u001b[49m\u001b[43m(\u001b[49m\u001b[38;5;124;43m\"\u001b[39;49m\u001b[38;5;124;43mcompression\u001b[39;49m\u001b[38;5;124;43m\"\u001b[39;49m\u001b[43m,\u001b[49m\u001b[43m \u001b[49m\u001b[38;5;28;43;01mNone\u001b[39;49;00m\u001b[43m)\u001b[49m\u001b[43m,\u001b[49m\n\u001b[0;32m   1740\u001b[0m \u001b[43m    \u001b[49m\u001b[43mmemory_map\u001b[49m\u001b[38;5;241;43m=\u001b[39;49m\u001b[38;5;28;43mself\u001b[39;49m\u001b[38;5;241;43m.\u001b[39;49m\u001b[43moptions\u001b[49m\u001b[38;5;241;43m.\u001b[39;49m\u001b[43mget\u001b[49m\u001b[43m(\u001b[49m\u001b[38;5;124;43m\"\u001b[39;49m\u001b[38;5;124;43mmemory_map\u001b[39;49m\u001b[38;5;124;43m\"\u001b[39;49m\u001b[43m,\u001b[49m\u001b[43m \u001b[49m\u001b[38;5;28;43;01mFalse\u001b[39;49;00m\u001b[43m)\u001b[49m\u001b[43m,\u001b[49m\n\u001b[0;32m   1741\u001b[0m \u001b[43m    \u001b[49m\u001b[43mis_text\u001b[49m\u001b[38;5;241;43m=\u001b[39;49m\u001b[43mis_text\u001b[49m\u001b[43m,\u001b[49m\n\u001b[0;32m   1742\u001b[0m \u001b[43m    \u001b[49m\u001b[43merrors\u001b[49m\u001b[38;5;241;43m=\u001b[39;49m\u001b[38;5;28;43mself\u001b[39;49m\u001b[38;5;241;43m.\u001b[39;49m\u001b[43moptions\u001b[49m\u001b[38;5;241;43m.\u001b[39;49m\u001b[43mget\u001b[49m\u001b[43m(\u001b[49m\u001b[38;5;124;43m\"\u001b[39;49m\u001b[38;5;124;43mencoding_errors\u001b[39;49m\u001b[38;5;124;43m\"\u001b[39;49m\u001b[43m,\u001b[49m\u001b[43m \u001b[49m\u001b[38;5;124;43m\"\u001b[39;49m\u001b[38;5;124;43mstrict\u001b[39;49m\u001b[38;5;124;43m\"\u001b[39;49m\u001b[43m)\u001b[49m\u001b[43m,\u001b[49m\n\u001b[0;32m   1743\u001b[0m \u001b[43m    \u001b[49m\u001b[43mstorage_options\u001b[49m\u001b[38;5;241;43m=\u001b[39;49m\u001b[38;5;28;43mself\u001b[39;49m\u001b[38;5;241;43m.\u001b[39;49m\u001b[43moptions\u001b[49m\u001b[38;5;241;43m.\u001b[39;49m\u001b[43mget\u001b[49m\u001b[43m(\u001b[49m\u001b[38;5;124;43m\"\u001b[39;49m\u001b[38;5;124;43mstorage_options\u001b[39;49m\u001b[38;5;124;43m\"\u001b[39;49m\u001b[43m,\u001b[49m\u001b[43m \u001b[49m\u001b[38;5;28;43;01mNone\u001b[39;49;00m\u001b[43m)\u001b[49m\u001b[43m,\u001b[49m\n\u001b[0;32m   1744\u001b[0m \u001b[43m\u001b[49m\u001b[43m)\u001b[49m\n\u001b[0;32m   1745\u001b[0m \u001b[38;5;28;01massert\u001b[39;00m \u001b[38;5;28mself\u001b[39m\u001b[38;5;241m.\u001b[39mhandles \u001b[38;5;129;01mis\u001b[39;00m \u001b[38;5;129;01mnot\u001b[39;00m \u001b[38;5;28;01mNone\u001b[39;00m\n\u001b[0;32m   1746\u001b[0m f \u001b[38;5;241m=\u001b[39m \u001b[38;5;28mself\u001b[39m\u001b[38;5;241m.\u001b[39mhandles\u001b[38;5;241m.\u001b[39mhandle\n",
      "File \u001b[1;32mD:\\aseem pasha\\Documents\\lib\\site-packages\\pandas\\io\\common.py:856\u001b[0m, in \u001b[0;36mget_handle\u001b[1;34m(path_or_buf, mode, encoding, compression, memory_map, is_text, errors, storage_options)\u001b[0m\n\u001b[0;32m    851\u001b[0m \u001b[38;5;28;01melif\u001b[39;00m \u001b[38;5;28misinstance\u001b[39m(handle, \u001b[38;5;28mstr\u001b[39m):\n\u001b[0;32m    852\u001b[0m     \u001b[38;5;66;03m# Check whether the filename is to be opened in binary mode.\u001b[39;00m\n\u001b[0;32m    853\u001b[0m     \u001b[38;5;66;03m# Binary mode does not support 'encoding' and 'newline'.\u001b[39;00m\n\u001b[0;32m    854\u001b[0m     \u001b[38;5;28;01mif\u001b[39;00m ioargs\u001b[38;5;241m.\u001b[39mencoding \u001b[38;5;129;01mand\u001b[39;00m \u001b[38;5;124m\"\u001b[39m\u001b[38;5;124mb\u001b[39m\u001b[38;5;124m\"\u001b[39m \u001b[38;5;129;01mnot\u001b[39;00m \u001b[38;5;129;01min\u001b[39;00m ioargs\u001b[38;5;241m.\u001b[39mmode:\n\u001b[0;32m    855\u001b[0m         \u001b[38;5;66;03m# Encoding\u001b[39;00m\n\u001b[1;32m--> 856\u001b[0m         handle \u001b[38;5;241m=\u001b[39m \u001b[38;5;28;43mopen\u001b[39;49m\u001b[43m(\u001b[49m\n\u001b[0;32m    857\u001b[0m \u001b[43m            \u001b[49m\u001b[43mhandle\u001b[49m\u001b[43m,\u001b[49m\n\u001b[0;32m    858\u001b[0m \u001b[43m            \u001b[49m\u001b[43mioargs\u001b[49m\u001b[38;5;241;43m.\u001b[39;49m\u001b[43mmode\u001b[49m\u001b[43m,\u001b[49m\n\u001b[0;32m    859\u001b[0m \u001b[43m            \u001b[49m\u001b[43mencoding\u001b[49m\u001b[38;5;241;43m=\u001b[39;49m\u001b[43mioargs\u001b[49m\u001b[38;5;241;43m.\u001b[39;49m\u001b[43mencoding\u001b[49m\u001b[43m,\u001b[49m\n\u001b[0;32m    860\u001b[0m \u001b[43m            \u001b[49m\u001b[43merrors\u001b[49m\u001b[38;5;241;43m=\u001b[39;49m\u001b[43merrors\u001b[49m\u001b[43m,\u001b[49m\n\u001b[0;32m    861\u001b[0m \u001b[43m            \u001b[49m\u001b[43mnewline\u001b[49m\u001b[38;5;241;43m=\u001b[39;49m\u001b[38;5;124;43m\"\u001b[39;49m\u001b[38;5;124;43m\"\u001b[39;49m\u001b[43m,\u001b[49m\n\u001b[0;32m    862\u001b[0m \u001b[43m        \u001b[49m\u001b[43m)\u001b[49m\n\u001b[0;32m    863\u001b[0m     \u001b[38;5;28;01melse\u001b[39;00m:\n\u001b[0;32m    864\u001b[0m         \u001b[38;5;66;03m# Binary mode\u001b[39;00m\n\u001b[0;32m    865\u001b[0m         handle \u001b[38;5;241m=\u001b[39m \u001b[38;5;28mopen\u001b[39m(handle, ioargs\u001b[38;5;241m.\u001b[39mmode)\n",
      "\u001b[1;31mFileNotFoundError\u001b[0m: [Errno 2] No such file or directory: 'D:\\\\Downloads1\\\\Bank Dataset\\\\application_data.csv'"
     ]
    }
   ],
   "source": [
    "app=pd.read_csv(r\"D:\\Downloads1\\Bank Dataset\\application_data.csv\")\n",
    "prev_app=pd.read_csv(r\"D:\\Downloads1\\Bank Dataset\\previous_application.csv\")"
   ]
  },
  {
   "cell_type": "code",
   "execution_count": null,
   "id": "1c0ef316",
   "metadata": {},
   "outputs": [],
   "source": [
    "app.head()"
   ]
  },
  {
   "cell_type": "markdown",
   "id": "56a02852",
   "metadata": {},
   "source": [
    "#Feature Selection"
   ]
  },
  {
   "cell_type": "code",
   "execution_count": null,
   "id": "fbc97f62",
   "metadata": {},
   "outputs": [],
   "source": [
    "app.columns"
   ]
  },
  {
   "cell_type": "code",
   "execution_count": null,
   "id": "94dea839",
   "metadata": {},
   "outputs": [],
   "source": [
    "app.shape"
   ]
  },
  {
   "cell_type": "code",
   "execution_count": null,
   "id": "372b6ada",
   "metadata": {},
   "outputs": [],
   "source": [
    "msng_info=pd.DataFrame(app.isnull().sum().sort_values()).reset_index() #creating a dataframe for missing values\n",
    "msng_info.rename(columns={\"index\":\"col_name\",0:'null_count'},inplace=True) #rename column name\n",
    "msng_info['msng_pct']=msng_info['null_count']/app.shape[0]*100 #create a new column for %"
   ]
  },
  {
   "cell_type": "code",
   "execution_count": null,
   "id": "ebcbdb39",
   "metadata": {},
   "outputs": [],
   "source": [
    "msng_info.head()"
   ]
  },
  {
   "cell_type": "code",
   "execution_count": null,
   "id": "0cd398c9",
   "metadata": {},
   "outputs": [],
   "source": [
    "msng_info.to_excel(r\"D:\\Downloads1\\Bank Dataset\\missing_info.xlsx\",index=False) #creating a excel file"
   ]
  },
  {
   "cell_type": "code",
   "execution_count": null,
   "id": "cb0e6cee",
   "metadata": {},
   "outputs": [],
   "source": [
    "msng_col=msng_info[msng_info['msng_pct']>=40]['col_name'].to_list() #create a new name & put all the msing value rows \n",
    "#above 40% and convert into list\n",
    "len(msng_col)"
   ]
  },
  {
   "cell_type": "code",
   "execution_count": null,
   "id": "87085e1c",
   "metadata": {},
   "outputs": [],
   "source": [
    "app_msng_remove=app.drop(labels=msng_col,axis=1)\n",
    "app_msng_remove.shape"
   ]
  },
  {
   "cell_type": "code",
   "execution_count": null,
   "id": "5039b855",
   "metadata": {
    "scrolled": true
   },
   "outputs": [],
   "source": [
    "app_msng_remove.head()"
   ]
  },
  {
   "cell_type": "code",
   "execution_count": null,
   "id": "414a0edc",
   "metadata": {},
   "outputs": [],
   "source": [
    "flag_col = []          #creating a df of flag colmns and storing all the Flagcolumns init \n",
    "for col in app_msng_remove.columns:\n",
    "    if col.startswith(\"FLAG_\"):\n",
    "        flag_col.append(col)"
   ]
  },
  {
   "cell_type": "code",
   "execution_count": null,
   "id": "c3e5b8ea",
   "metadata": {},
   "outputs": [],
   "source": [
    "len(flag_col)\n"
   ]
  },
  {
   "cell_type": "code",
   "execution_count": null,
   "id": "6d9c9dd2",
   "metadata": {},
   "outputs": [],
   "source": [
    "app_msng_remove.head()"
   ]
  },
  {
   "cell_type": "code",
   "execution_count": null,
   "id": "d132baa8",
   "metadata": {},
   "outputs": [],
   "source": [
    "flag_tgt_col = app_msng_remove[flag_col+['TARGET']] # creating a new df and adding target colmn in the end to plot graph\n",
    "flag_tgt_col.head()"
   ]
  },
  {
   "cell_type": "code",
   "execution_count": null,
   "id": "ea8ed349",
   "metadata": {},
   "outputs": [],
   "source": [
    "sns.countplot(data=flag_tgt_col,x='FLAG_CONT_MOBILE',hue='TARGET')"
   ]
  },
  {
   "cell_type": "code",
   "execution_count": null,
   "id": "155cf1f0",
   "metadata": {},
   "outputs": [],
   "source": [
    "plt.figure(figsize=(20,25))\n",
    "\n",
    "for i,col in enumerate(flag_col):\n",
    "    plt.subplot(7,4,i+1)\n",
    "    sns.countplot(data=flag_tgt_col,x=col,hue='TARGET')"
   ]
  },
  {
   "cell_type": "code",
   "execution_count": null,
   "id": "309df40a",
   "metadata": {},
   "outputs": [],
   "source": [
    "flag_tgt_col.columns"
   ]
  },
  {
   "cell_type": "code",
   "execution_count": null,
   "id": "3fa82a24",
   "metadata": {},
   "outputs": [],
   "source": [
    "flag_corr=['FLAG_OWN_CAR', 'FLAG_OWN_REALTY', 'FLAG_MOBIL', 'FLAG_EMP_PHONE',\n",
    "       'FLAG_WORK_PHONE', 'FLAG_CONT_MOBILE', 'FLAG_PHONE', 'FLAG_EMAIL','TARGET']\n",
    "\n",
    "flag_corr_df = app_msng_remove[flag_corr]\n",
    "round(flag_corr_df.corr(),2)# correlation between cols by 2 decimal places\n",
    "# the corr greater & less than 0.8 are given importance"
   ]
  },
  {
   "cell_type": "code",
   "execution_count": null,
   "id": "523b8c42",
   "metadata": {},
   "outputs": [],
   "source": [
    "flag_corr_df.head()"
   ]
  },
  {
   "cell_type": "code",
   "execution_count": null,
   "id": "9fb4e120",
   "metadata": {},
   "outputs": [],
   "source": [
    "corr_df=round(flag_corr_df.corr(),2) #creating df for heatmap"
   ]
  },
  {
   "cell_type": "code",
   "execution_count": null,
   "id": "541bbf92",
   "metadata": {},
   "outputs": [],
   "source": [
    "plt.figure(figsize=(10,5))\n",
    "sns.heatmap(corr_df,cmap='coolwarm',linewidth=.5,annot=True)"
   ]
  },
  {
   "cell_type": "code",
   "execution_count": null,
   "id": "a3385a6b",
   "metadata": {},
   "outputs": [],
   "source": [
    "# flag own car & flag rEALITY IS MISSING AS THE values are in yes or no not 0 & 1\n",
    "flag_corr_df.groupby(['FLAG_OWN_CAR']).size()"
   ]
  },
  {
   "cell_type": "code",
   "execution_count": null,
   "id": "e9d08f24",
   "metadata": {},
   "outputs": [],
   "source": [
    "flag_corr_df[\"FLAG_OWN_CAR\"]=flag_corr_df[\"FLAG_OWN_CAR\"].replace ({'N':0,'Y':1})\n",
    "flag_corr_df[\"FLAG_OWN_REALTY\"]=flag_corr_df[\"FLAG_OWN_REALTY\"].replace ({'N':0,'Y':1})\n"
   ]
  },
  {
   "cell_type": "code",
   "execution_count": null,
   "id": "0b089999",
   "metadata": {},
   "outputs": [],
   "source": [
    "flag_corr_df.groupby(['FLAG_OWN_CAR']).size()"
   ]
  },
  {
   "cell_type": "code",
   "execution_count": null,
   "id": "27c36e48",
   "metadata": {},
   "outputs": [],
   "source": [
    "corr_df=round(flag_corr_df.corr(),2) #creating df for heatmap"
   ]
  },
  {
   "cell_type": "code",
   "execution_count": null,
   "id": "0741b262",
   "metadata": {},
   "outputs": [],
   "source": [
    "plt.figure(figsize=(10,5))\n",
    "sns.heatmap(corr_df,cmap='coolwarm',linewidth=.5,annot=True)"
   ]
  },
  {
   "cell_type": "code",
   "execution_count": null,
   "id": "e9d81a02",
   "metadata": {},
   "outputs": [],
   "source": [
    "#As theese columns have no corelation so we drop all columns except Target"
   ]
  },
  {
   "cell_type": "code",
   "execution_count": null,
   "id": "fac443f7",
   "metadata": {},
   "outputs": [],
   "source": [
    "app_flag_remove=app_msng_remove.drop(labels=flag_col,axis=1)\n",
    "app_flag_remove.shape"
   ]
  },
  {
   "cell_type": "code",
   "execution_count": null,
   "id": "da9b4d4d",
   "metadata": {},
   "outputs": [],
   "source": [
    "app_flag_remove.head()"
   ]
  },
  {
   "cell_type": "code",
   "execution_count": null,
   "id": "43dcf086",
   "metadata": {},
   "outputs": [],
   "source": [
    "sns.heatmap(round(app_flag_remove[['EXT_SOURCE_2','EXT_SOURCE_3','TARGET']].corr(),2),cmap='coolwarm',linewidth=.5,annot=True)"
   ]
  },
  {
   "cell_type": "code",
   "execution_count": null,
   "id": "2eb18746",
   "metadata": {},
   "outputs": [],
   "source": [
    "app_score_col_remove=app_flag_remove.drop(['EXT_SOURCE_2','EXT_SOURCE_3'],axis=1)"
   ]
  },
  {
   "cell_type": "code",
   "execution_count": null,
   "id": "d62f3be5",
   "metadata": {},
   "outputs": [],
   "source": [
    "app_score_col_remove.shape"
   ]
  },
  {
   "cell_type": "markdown",
   "id": "c354e7ff",
   "metadata": {},
   "source": [
    "# Feature Engineering "
   ]
  },
  {
   "cell_type": "code",
   "execution_count": null,
   "id": "52c951d1",
   "metadata": {},
   "outputs": [],
   "source": [
    "#missing imputation"
   ]
  },
  {
   "cell_type": "code",
   "execution_count": null,
   "id": "cc532c6a",
   "metadata": {
    "scrolled": true
   },
   "outputs": [],
   "source": [
    "app_score_col_remove.isnull().sum().sort_values()/app_score_col_remove.shape[0]"
   ]
  },
  {
   "cell_type": "code",
   "execution_count": null,
   "id": "a10e7791",
   "metadata": {},
   "outputs": [],
   "source": [
    "app_score_col_remove.groupby('CNT_FAM_MEMBERS').size()"
   ]
  },
  {
   "cell_type": "code",
   "execution_count": null,
   "id": "24de7651",
   "metadata": {},
   "outputs": [],
   "source": [
    "app_score_col_remove['CNT_FAM_MEMBERS'].mode() #categorial columns"
   ]
  },
  {
   "cell_type": "code",
   "execution_count": null,
   "id": "6b1fcd57",
   "metadata": {},
   "outputs": [],
   "source": [
    "app_score_col_remove['CNT_FAM_MEMBERS'] = app_score_col_remove['CNT_FAM_MEMBERS'].fillna((app_score_col_remove['CNT_FAM_MEMBERS'].mode()[0])) "
   ]
  },
  {
   "cell_type": "code",
   "execution_count": null,
   "id": "8d675ace",
   "metadata": {},
   "outputs": [],
   "source": [
    "app_score_col_remove['CNT_FAM_MEMBERS'].isnull().sum()"
   ]
  },
  {
   "cell_type": "code",
   "execution_count": null,
   "id": "da5d3583",
   "metadata": {},
   "outputs": [],
   "source": [
    "app_score_col_remove.groupby('OCCUPATION_TYPE').size().sort_values()# 2 options fill null values with NA or labouborers"
   ]
  },
  {
   "cell_type": "code",
   "execution_count": null,
   "id": "8a5fc927",
   "metadata": {},
   "outputs": [],
   "source": [
    "app_score_col_remove['OCCUPATION_TYPE'] = app_score_col_remove['OCCUPATION_TYPE'].fillna((app_score_col_remove['OCCUPATION_TYPE'].mode()[0])) "
   ]
  },
  {
   "cell_type": "code",
   "execution_count": null,
   "id": "a04afae9",
   "metadata": {},
   "outputs": [],
   "source": [
    "app_score_col_remove['OCCUPATION_TYPE'].isnull().sum()"
   ]
  },
  {
   "cell_type": "code",
   "execution_count": null,
   "id": "10ff40e4",
   "metadata": {},
   "outputs": [],
   "source": [
    "app_score_col_remove['NAME_TYPE_SUITE'].isnull().sum()"
   ]
  },
  {
   "cell_type": "code",
   "execution_count": null,
   "id": "ae4dbcbb",
   "metadata": {},
   "outputs": [],
   "source": [
    "app_score_col_remove['NAME_TYPE_SUITE'] = app_score_col_remove['NAME_TYPE_SUITE'].fillna((app_score_col_remove['NAME_TYPE_SUITE'].mode()[0])) "
   ]
  },
  {
   "cell_type": "code",
   "execution_count": null,
   "id": "a0f445f5",
   "metadata": {},
   "outputs": [],
   "source": [
    "app_score_col_remove['NAME_TYPE_SUITE'].isnull().sum()"
   ]
  },
  {
   "cell_type": "code",
   "execution_count": null,
   "id": "3b5a92ad",
   "metadata": {},
   "outputs": [],
   "source": [
    "app_score_col_remove['AMT_ANNUITY'].describe()# continous cols hence impute with mean"
   ]
  },
  {
   "cell_type": "code",
   "execution_count": null,
   "id": "4060412d",
   "metadata": {},
   "outputs": [],
   "source": [
    "app_score_col_remove['AMT_ANNUITY'] = app_score_col_remove['AMT_ANNUITY'].fillna((app_score_col_remove['AMT_ANNUITY'].mean())) "
   ]
  },
  {
   "cell_type": "code",
   "execution_count": null,
   "id": "27064756",
   "metadata": {},
   "outputs": [],
   "source": [
    "app_score_col_remove['AMT_ANNUITY'].isnull().sum()"
   ]
  },
  {
   "cell_type": "code",
   "execution_count": null,
   "id": "5108aef0",
   "metadata": {},
   "outputs": [],
   "source": [
    "app_score_col_remove['AMT_REQ_CREDIT_BUREAU_HOUR'].dtype() # float means continous columns"
   ]
  },
  {
   "cell_type": "code",
   "execution_count": null,
   "id": "e97603cd",
   "metadata": {},
   "outputs": [],
   "source": [
    "app_score_col_remove['AMT_REQ_CREDIT_BUREAU_HOUR'].describe()"
   ]
  },
  {
   "cell_type": "code",
   "execution_count": null,
   "id": "9baff168",
   "metadata": {},
   "outputs": [],
   "source": [
    "amt_req_col =[]\n",
    "\n",
    "for col in app_score_col_remove.columns:\n",
    "    if col.startswith(\"AMT_REQ_CREDIT_BUREAU\"):\n",
    "          amt_req_col.append(col)  \n",
    "\n",
    "amt_req_col            "
   ]
  },
  {
   "cell_type": "code",
   "execution_count": null,
   "id": "f62c7237",
   "metadata": {},
   "outputs": [],
   "source": [
    "for col in amt_req_col:\n",
    "    app_score_col_remove[col] = app_score_col_remove[col].fillna((app_score_col_remove[col].median())) "
   ]
  },
  {
   "cell_type": "code",
   "execution_count": null,
   "id": "009558e1",
   "metadata": {},
   "outputs": [],
   "source": [
    "app_score_col_remove[col].isnull().sum()"
   ]
  },
  {
   "cell_type": "code",
   "execution_count": null,
   "id": "45230245",
   "metadata": {},
   "outputs": [],
   "source": [
    "app_score_col_remove['AMT_GOODS_PRICE'].isnull().sum()"
   ]
  },
  {
   "cell_type": "code",
   "execution_count": null,
   "id": "c4897423",
   "metadata": {},
   "outputs": [],
   "source": [
    "app_score_col_remove['AMT_GOODS_PRICE'].describe()"
   ]
  },
  {
   "cell_type": "code",
   "execution_count": null,
   "id": "c5bab39d",
   "metadata": {
    "scrolled": true
   },
   "outputs": [],
   "source": [
    "app_score_col_remove['AMT_GOODS_PRICE'].agg(['min','max','median'])"
   ]
  },
  {
   "cell_type": "code",
   "execution_count": null,
   "id": "0f978d04",
   "metadata": {},
   "outputs": [],
   "source": [
    "app_score_col_remove['AMT_GOODS_PRICE'].mean()"
   ]
  },
  {
   "cell_type": "code",
   "execution_count": null,
   "id": "1e0a0ed1",
   "metadata": {},
   "outputs": [],
   "source": [
    "app_score_col_remove['AMT_GOODS_PRICE'] = app_score_col_remove['AMT_GOODS_PRICE'].fillna((app_score_col_remove['AMT_GOODS_PRICE'].median()))"
   ]
  },
  {
   "cell_type": "code",
   "execution_count": null,
   "id": "f692e1a6",
   "metadata": {},
   "outputs": [],
   "source": [
    "app_score_col_remove['AMT_GOODS_PRICE'].isnull().sum()"
   ]
  },
  {
   "cell_type": "code",
   "execution_count": null,
   "id": "8f875ba7",
   "metadata": {},
   "outputs": [],
   "source": []
  },
  {
   "cell_type": "markdown",
   "id": "fde2a080",
   "metadata": {},
   "source": [
    "# Value Modification"
   ]
  },
  {
   "cell_type": "code",
   "execution_count": null,
   "id": "4f7f13f8",
   "metadata": {},
   "outputs": [],
   "source": [
    "days_col=[]\n",
    "\n",
    "for col in app_score_col_remove.columns:\n",
    "    if col.startswith(\"DAYS\"):\n",
    "        days_col.append(col)\n",
    "days_col                                   #Negative value rectification"
   ]
  },
  {
   "cell_type": "code",
   "execution_count": null,
   "id": "53e55e89",
   "metadata": {},
   "outputs": [],
   "source": [
    "for col in days_col:\n",
    "    app_score_col_remove[col] = abs(app_score_col_remove[col])"
   ]
  },
  {
   "cell_type": "code",
   "execution_count": null,
   "id": "3f6cebf1",
   "metadata": {},
   "outputs": [],
   "source": [
    "app_score_col_remove.head()"
   ]
  },
  {
   "cell_type": "markdown",
   "id": "596f64ef",
   "metadata": {},
   "source": [
    "# Outlier detection & Treatement"
   ]
  },
  {
   "cell_type": "code",
   "execution_count": null,
   "id": "e1337a36",
   "metadata": {},
   "outputs": [],
   "source": [
    " app_score_col_remove['AMT_GOODS_PRICE'].agg(['min','max','median']) #Make binning"
   ]
  },
  {
   "cell_type": "code",
   "execution_count": null,
   "id": "d8300bc2",
   "metadata": {},
   "outputs": [],
   "source": [
    "sns.kdeplot(data=app_score_col_remove,x='AMT_GOODS_PRICE')"
   ]
  },
  {
   "cell_type": "code",
   "execution_count": null,
   "id": "c6885fd1",
   "metadata": {},
   "outputs": [],
   "source": [
    "sns.boxenplot(data=app_score_col_remove,x='AMT_GOODS_PRICE')"
   ]
  },
  {
   "cell_type": "code",
   "execution_count": null,
   "id": "dd4f81e1",
   "metadata": {},
   "outputs": [],
   "source": [
    "app_score_col_remove['AMT_GOODS_PRICE'].quantile([0.1,.2,.3,.4,.5,.6,.7,.8,.9,.99]) # most ofthe values are below 1.8 million"
   ]
  },
  {
   "cell_type": "code",
   "execution_count": null,
   "id": "f7230ec3",
   "metadata": {},
   "outputs": [],
   "source": [
    "bins = [0,100000,200000,300000,400000,500000,600000,700000,800000,900000,4050000]\n",
    "ranges = ['0-100K','100k-200K','200K-300K','300K-400K','400K-500K','500K-600K','600K-700K'\n",
    "          ,'700K-800K','800K-900K','Above 900K']\n",
    "\n",
    "app_score_col_remove['AMT_GOODS_PRICE_RANGE'] = pd.cut(app_score_col_remove['AMT_GOODS_PRICE'],bins,labels=ranges)"
   ]
  },
  {
   "cell_type": "code",
   "execution_count": null,
   "id": "2ffe65b1",
   "metadata": {},
   "outputs": [],
   "source": [
    "app_score_col_remove.groupby(['AMT_GOODS_PRICE_RANGE']).size()"
   ]
  },
  {
   "cell_type": "code",
   "execution_count": null,
   "id": "bf61ddbe",
   "metadata": {},
   "outputs": [],
   "source": [
    "app_score_col_remove['AMT_INCOME_TOTAL'].quantile([0.1,0.2,0.3,0.4,0.5,0.6,0.7,0.8,0.9,0.99])"
   ]
  },
  {
   "cell_type": "code",
   "execution_count": null,
   "id": "a8422b2a",
   "metadata": {},
   "outputs": [],
   "source": [
    "app_score_col_remove['AMT_INCOME_TOTAL'].max()"
   ]
  },
  {
   "cell_type": "code",
   "execution_count": null,
   "id": "ea05c4e7",
   "metadata": {},
   "outputs": [],
   "source": [
    "bins = [0,100000,150000,200000,250000,300000,350000,400000,117000000]\n",
    "ranges = ['0-100K','100K-150K','150K-200K','200K-250K','250K-300K','300K-350K','350K-400K'\n",
    "          ,'Above 400K']\n",
    "\n",
    "app_score_col_remove['AMT_INCOME_TOTAL_RANGE'] = pd.cut(app_score_col_remove['AMT_INCOME_TOTAL'],bins,labels=ranges)\n"
   ]
  },
  {
   "cell_type": "code",
   "execution_count": null,
   "id": "37938692",
   "metadata": {},
   "outputs": [],
   "source": [
    "app_score_col_remove.groupby(['AMT_INCOME_TOTAL_RANGE']).size()\n"
   ]
  },
  {
   "cell_type": "code",
   "execution_count": null,
   "id": "c717d376",
   "metadata": {},
   "outputs": [],
   "source": [
    "\n",
    "app_score_col_remove['AMT_INCOME_TOTAL_RANGE'].isnull().sum()"
   ]
  },
  {
   "cell_type": "code",
   "execution_count": null,
   "id": "1e54b149",
   "metadata": {},
   "outputs": [],
   "source": [
    "app_score_col_remove['AMT_CREDIT'].quantile([0.1,0.2,0.3,0.4,0.5,0.6,0.7,0.8,0.9,0.99])\n"
   ]
  },
  {
   "cell_type": "code",
   "execution_count": null,
   "id": "fd48b41c",
   "metadata": {},
   "outputs": [],
   "source": [
    "\n",
    "app_score_col_remove['AMT_CREDIT'].max()"
   ]
  },
  {
   "cell_type": "code",
   "execution_count": null,
   "id": "ec260b89",
   "metadata": {},
   "outputs": [],
   "source": [
    "# In[55]:\n",
    "\n",
    "\n",
    "bins = [0,200000,400000,600000,800000,900000,1000000,2000000,3000000,4050000]\n",
    "ranges = ['0-200K','200K-400K','400K-600K','600K-800K','800K-900K','900K-1M','1M-2M','2M-3M','Above 3M']\n",
    "\n",
    "app_score_col_remove['AMT_CREDIT_RANGE'] = pd.cut(app_score_col_remove['AMT_CREDIT'],bins,labels=ranges)"
   ]
  },
  {
   "cell_type": "code",
   "execution_count": null,
   "id": "271c8ff2",
   "metadata": {},
   "outputs": [],
   "source": [
    "app_score_col_remove.groupby(['AMT_CREDIT_RANGE']).size()"
   ]
  },
  {
   "cell_type": "code",
   "execution_count": null,
   "id": "80426d96",
   "metadata": {},
   "outputs": [],
   "source": [
    "app_score_col_remove['AMT_CREDIT'].isnull().sum()\n"
   ]
  },
  {
   "cell_type": "code",
   "execution_count": null,
   "id": "ebc39e9a",
   "metadata": {},
   "outputs": [],
   "source": [
    "app_score_col_remove['AMT_ANNUITY'].quantile([0.1,0.2,0.3,0.4,0.5,0.6,0.7,0.8,0.9,0.99])"
   ]
  },
  {
   "cell_type": "code",
   "execution_count": null,
   "id": "71f3808c",
   "metadata": {},
   "outputs": [],
   "source": [
    "# In[59]:\n",
    "app_score_col_remove['AMT_ANNUITY'].max()"
   ]
  },
  {
   "cell_type": "code",
   "execution_count": null,
   "id": "d280df53",
   "metadata": {},
   "outputs": [],
   "source": [
    "# In[60]:\n",
    "bins = [0,25000,50000,100000,150000,200000,258025.5]\n",
    "ranges = ['0-25K','25K-50K','50K-100K','100K-150K','150K-200K','Above 200K']\n",
    "\n",
    "app_score_col_remove['AMT_ANNUITY_RANGE'] = pd.cut(app_score_col_remove['AMT_ANNUITY'],bins,labels=ranges)\n",
    "\n"
   ]
  },
  {
   "cell_type": "code",
   "execution_count": null,
   "id": "078d8f3f",
   "metadata": {},
   "outputs": [],
   "source": [
    "app_score_col_remove.groupby(['AMT_ANNUITY_RANGE']).size()"
   ]
  },
  {
   "cell_type": "code",
   "execution_count": null,
   "id": "e5de9d2b",
   "metadata": {},
   "outputs": [],
   "source": [
    "# In[62]:remove\n",
    "app_score_col_remove['AMT_ANNUITY_RANGE'].isnull().sum()"
   ]
  },
  {
   "cell_type": "code",
   "execution_count": null,
   "id": "d27e1b4e",
   "metadata": {},
   "outputs": [],
   "source": [
    "app_score_col_remove['DAYS_EMPLOYED'].agg(['min','max','median'])"
   ]
  },
  {
   "cell_type": "code",
   "execution_count": null,
   "id": "ba1315cb",
   "metadata": {},
   "outputs": [],
   "source": [
    "app_score_col_remove['DAYS_EMPLOYED'].quantile([0.1,0.2,0.3,0.4,0.5,0.6,0.7,0.8,0.81,0.85,0.9,0.95,0.99])"
   ]
  },
  {
   "cell_type": "code",
   "execution_count": null,
   "id": "9a1d8996",
   "metadata": {},
   "outputs": [],
   "source": [
    "\n",
    "app_score_col_remove[app_score_col_remove['DAYS_EMPLOYED']<app_score_col_remove['DAYS_EMPLOYED'].max()].max()['DAYS_EMPLOYED']\n"
   ]
  },
  {
   "cell_type": "code",
   "execution_count": null,
   "id": "418ed5e7",
   "metadata": {},
   "outputs": [],
   "source": [
    "app_score_col_remove['DAYS_EMPLOYED'].max()"
   ]
  },
  {
   "cell_type": "code",
   "execution_count": null,
   "id": "10785ea3",
   "metadata": {},
   "outputs": [],
   "source": [
    "\n",
    "bins = [0,1825,3650,5475,7300,9125,10950,12775,14600,16425,18250,23691,365243]\n",
    "\n",
    "ranges = ['0-5Y','5Y-10Y','10Y-15Y','15Y-20Y','20Y-25Y','25Y-30Y','30Y-35Y','35Y-40Y','40Y-45Y','45Y-50Y'\n",
    "          ,'50Y-65Y','Above 65Y']\n",
    "\n",
    "app_score_col_remove['DAYS_EMPLOYED_RANGE'] = pd.cut(app_score_col_remove['DAYS_EMPLOYED'],bins,labels=ranges)"
   ]
  },
  {
   "cell_type": "code",
   "execution_count": null,
   "id": "2ee3c2a2",
   "metadata": {},
   "outputs": [],
   "source": [
    "\n",
    "app_score_col_remove.groupby(['DAYS_EMPLOYED_RANGE']).size()"
   ]
  },
  {
   "cell_type": "code",
   "execution_count": null,
   "id": "9a1049ef",
   "metadata": {},
   "outputs": [],
   "source": [
    "\n",
    "app_score_col_remove['DAYS_BIRTH'].quantile([0.1,0.2,0.3,0.4,0.5,0.6,0.7,0.8,0.81,0.85,0.9,0.95,0.99])"
   ]
  },
  {
   "cell_type": "code",
   "execution_count": null,
   "id": "03876b1f",
   "metadata": {},
   "outputs": [],
   "source": [
    "app_score_col_remove['DAYS_BIRTH'].min()"
   ]
  },
  {
   "cell_type": "code",
   "execution_count": null,
   "id": "b8f47cb7",
   "metadata": {},
   "outputs": [],
   "source": [
    "bins = [0,7300,10950,14600,18250,21900,25229]\n",
    "\n",
    "ranges = ['20Y','20Y-30Y','30Y-40Y','40Y-50Y','50Y-60Y','Above 60Y']\n",
    "\n",
    "app_score_col_remove['DAYS_BIRTH_RANGE'] = pd.cut(app_score_col_remove['DAYS_BIRTH'],bins,labels=ranges)"
   ]
  },
  {
   "cell_type": "code",
   "execution_count": null,
   "id": "9a9d521f",
   "metadata": {},
   "outputs": [],
   "source": [
    "\n",
    "app_score_col_remove.groupby(['DAYS_BIRTH_RANGE']).size()"
   ]
  },
  {
   "cell_type": "code",
   "execution_count": null,
   "id": "6572f356",
   "metadata": {},
   "outputs": [],
   "source": [
    "app_score_col_remove['DAYS_BIRTH'].isnull().sum()"
   ]
  },
  {
   "cell_type": "markdown",
   "id": "97e72ddc",
   "metadata": {},
   "source": [
    "# Data Analysis"
   ]
  },
  {
   "cell_type": "code",
   "execution_count": null,
   "id": "2facee5c",
   "metadata": {},
   "outputs": [],
   "source": [
    "app_score_col_remove.info()"
   ]
  },
  {
   "cell_type": "code",
   "execution_count": null,
   "id": "55bd576f",
   "metadata": {},
   "outputs": [],
   "source": [
    "app_score_col_remove.dtypes.value_counts()"
   ]
  },
  {
   "cell_type": "code",
   "execution_count": null,
   "id": "fb0a96d7",
   "metadata": {},
   "outputs": [],
   "source": [
    "obj_var=app_score_col_remove.select_dtypes(include=['object']).columns\n",
    "obj_var       #putting object columns in Df"
   ]
  },
  {
   "cell_type": "code",
   "execution_count": null,
   "id": "cc7f8588",
   "metadata": {},
   "outputs": [],
   "source": [
    "app_score_col_remove.groupby(['NAME_CONTRACT_TYPE']).size()"
   ]
  },
  {
   "cell_type": "code",
   "execution_count": null,
   "id": "49739046",
   "metadata": {},
   "outputs": [],
   "source": [
    "sns.countplot(data=app_score_col_remove,x='NAME_CONTRACT_TYPE',hue='TARGET')"
   ]
  },
  {
   "cell_type": "code",
   "execution_count": null,
   "id": "12d9a857",
   "metadata": {},
   "outputs": [],
   "source": [
    "data_pct=app_score_col_remove[['NAME_CONTRACT_TYPE','TARGET']].groupby(['NAME_CONTRACT_TYPE'],as_index=False).mean()\n",
    "data_pct"
   ]
  },
  {
   "cell_type": "code",
   "execution_count": null,
   "id": "6b9aeb1f",
   "metadata": {},
   "outputs": [],
   "source": [
    "data_pct['pct']=data_pct['TARGET']*100 #creating a new column for %"
   ]
  },
  {
   "cell_type": "code",
   "execution_count": null,
   "id": "27a1a3bb",
   "metadata": {},
   "outputs": [],
   "source": [
    "data_pct"
   ]
  },
  {
   "cell_type": "code",
   "execution_count": null,
   "id": "f1abfd27",
   "metadata": {},
   "outputs": [],
   "source": [
    "sns.barplot(data=data_pct,x='NAME_CONTRACT_TYPE',y='pct') #percentage of cash loan defaulters are more "
   ]
  },
  {
   "cell_type": "code",
   "execution_count": null,
   "id": "4ae64612",
   "metadata": {},
   "outputs": [],
   "source": [
    "plt.figure(figsize=(10,5))\n",
    "plt.subplot(1,2,1)\n",
    "\n",
    "sns.barplot(data=data_pct,x='NAME_CONTRACT_TYPE',y='pct') \n",
    "\n",
    "plt.subplot(1,2,2)\n",
    "sns.countplot(data=app_score_col_remove,x='NAME_CONTRACT_TYPE',hue='TARGET')"
   ]
  },
  {
   "cell_type": "code",
   "execution_count": null,
   "id": "8d9621c2",
   "metadata": {},
   "outputs": [],
   "source": [
    "plt.figure(figsize=(25,60)) \n",
    "\n",
    "for i,var in enumerate (obj_var):#var=NAmecontracttype, i=target\n",
    "    data_pct=app_score_col_remove[[var,'TARGET']].groupby([var],as_index=False).mean().sort_values(by='TARGET',ascending=False)\n",
    "    data_pct['pct']=data_pct['TARGET']*100\n",
    "    \n",
    "    plt.subplot(10,2,i+i+1)\n",
    "    plt.subplots_adjust(wspace=0.1,hspace=1)  #gives spacing between graphs   \n",
    "    sns.countplot(data=app_score_col_remove,x=var,hue='TARGET')\n",
    "    plt.xticks(rotation=90) \n",
    "    \n",
    "    plt.subplot(10,2,i+i+2)\n",
    "    sns.barplot(data=data_pct,x=var,y='pct') \n",
    "    plt.xticks(rotation=90)   #line variable in 90 degree\n",
    "\n",
    "  "
   ]
  },
  {
   "cell_type": "code",
   "execution_count": null,
   "id": "ca619a98",
   "metadata": {},
   "outputs": [],
   "source": []
  },
  {
   "cell_type": "code",
   "execution_count": null,
   "id": "0086e261",
   "metadata": {},
   "outputs": [],
   "source": [
    "#Now moving to categorical variables"
   ]
  },
  {
   "cell_type": "code",
   "execution_count": null,
   "id": "3bc7dfd2",
   "metadata": {},
   "outputs": [],
   "source": [
    "app_score_col_remove.dtypes.value_counts()"
   ]
  },
  {
   "cell_type": "code",
   "execution_count": null,
   "id": "6cd24fd8",
   "metadata": {},
   "outputs": [],
   "source": [
    "num_var = app_score_col_remove.select_dtypes(include=['float64','int64']).columns\n",
    "num_cat_var = app_score_col_remove.select_dtypes(include=['float64','int64','category']).columns\n",
    "num_var"
   ]
  },
  {
   "cell_type": "code",
   "execution_count": null,
   "id": "ff655edd",
   "metadata": {},
   "outputs": [],
   "source": [
    "len(num_var)"
   ]
  },
  {
   "cell_type": "code",
   "execution_count": null,
   "id": "644e16f2",
   "metadata": {},
   "outputs": [],
   "source": [
    "num_data=app_score_col_remove[num_var]\n",
    "num_data.groupby(['TARGET']).size()/num_data.shape[0]*100"
   ]
  },
  {
   "cell_type": "code",
   "execution_count": null,
   "id": "84ff4135",
   "metadata": {},
   "outputs": [],
   "source": [
    "# Data Imbalance so making 2 diff datasets"
   ]
  },
  {
   "cell_type": "code",
   "execution_count": null,
   "id": "ba8c3ad3",
   "metadata": {},
   "outputs": [],
   "source": [
    "defaulters=num_data[num_data['TARGET']==1]"
   ]
  },
  {
   "cell_type": "code",
   "execution_count": null,
   "id": "4604be45",
   "metadata": {},
   "outputs": [],
   "source": [
    "defaulters"
   ]
  },
  {
   "cell_type": "code",
   "execution_count": null,
   "id": "80f402b8",
   "metadata": {},
   "outputs": [],
   "source": [
    "repayers=num_data[num_data['TARGET']==0]"
   ]
  },
  {
   "cell_type": "code",
   "execution_count": null,
   "id": "68129000",
   "metadata": {},
   "outputs": [],
   "source": [
    "repayers"
   ]
  },
  {
   "cell_type": "code",
   "execution_count": null,
   "id": "a7ca52a8",
   "metadata": {},
   "outputs": [],
   "source": [
    "#dropping target column "
   ]
  },
  {
   "cell_type": "code",
   "execution_count": null,
   "id": "ee8f0e8c",
   "metadata": {},
   "outputs": [],
   "source": [
    "defaulters=num_data[num_data['TARGET']==1].drop(['TARGET'],axis=1)\n",
    "repayers=num_data[num_data['TARGET']==0].drop(['TARGET'],axis=1)"
   ]
  },
  {
   "cell_type": "code",
   "execution_count": null,
   "id": "7c316627",
   "metadata": {},
   "outputs": [],
   "source": [
    "defaulter_corr =defaulters.corr()"
   ]
  },
  {
   "cell_type": "code",
   "execution_count": null,
   "id": "39115d64",
   "metadata": {},
   "outputs": [],
   "source": [
    "defaulter_corr.head()"
   ]
  },
  {
   "cell_type": "code",
   "execution_count": null,
   "id": "947a39b3",
   "metadata": {},
   "outputs": [],
   "source": [
    "defaulter_corr_unstck = defaulter_corr.where(np.triu(np.ones(defaulter_corr.shape),k=1).astype(np.bool)).unstack().reset_index().rename(columns={'level_0':'var1' ,'level_1':'var2',0:'corr'})"
   ]
  },
  {
   "cell_type": "code",
   "execution_count": null,
   "id": "59830ccb",
   "metadata": {},
   "outputs": [],
   "source": [
    "defaulter_corr_unstck.head()"
   ]
  },
  {
   "cell_type": "code",
   "execution_count": null,
   "id": "6e0c4ed8",
   "metadata": {},
   "outputs": [],
   "source": [
    "defaulter_corr_unstck['corr'] = abs(defaulter_corr_unstck['corr'])\n",
    "defaulter_corr_unstck.dropna(subset=['corr']).sort_values(by=['corr'],ascending=False).head(10)"
   ]
  },
  {
   "cell_type": "code",
   "execution_count": null,
   "id": "6244055f",
   "metadata": {},
   "outputs": [],
   "source": []
  },
  {
   "cell_type": "code",
   "execution_count": null,
   "id": "3a331981",
   "metadata": {},
   "outputs": [],
   "source": [
    "repayers_corr = repayers.corr()\n",
    "repayers_corr_unstck = repayers_corr.where(np.triu(np.ones(repayers_corr.shape),k=1).astype(np.bool)).unstack().reset_index().rename(columns={'level_0':'var1'\n",
    "                                                                                                                        ,'level_1':'var2'\n",
    "                                                                                                                        ,0:'corr'})\n",
    "repayers_corr_unstck['corr'] = abs(repayers_corr_unstck['corr'])\n",
    "repayers_corr_unstck.dropna(subset=['corr']).sort_values(by=['corr'],ascending=False).head(10)\n"
   ]
  },
  {
   "cell_type": "code",
   "execution_count": null,
   "id": "197f8b35",
   "metadata": {},
   "outputs": [],
   "source": [
    "amt_var = ['AMT_INCOME_TOTAL','AMT_CREDIT','AMT_ANNUITY','AMT_GOODS_PRICE']\n"
   ]
  },
  {
   "cell_type": "code",
   "execution_count": null,
   "id": "78d1d86d",
   "metadata": {},
   "outputs": [],
   "source": [
    "sns.kdeplot(data=num_data,x='AMT_CREDIT',hue='TARGET')"
   ]
  },
  {
   "cell_type": "code",
   "execution_count": null,
   "id": "20ed1b59",
   "metadata": {},
   "outputs": [],
   "source": [
    "plt.figure(figsize=(10,5))\n",
    "\n",
    "for i, col in enumerate(amt_var):\n",
    "    plt.subplot(2,2,i+1)\n",
    "    sns.kdeplot(data=num_data,x=col,hue='TARGET')\n",
    "    plt.subplots_adjust(wspace=0.5,hspace=0.5)"
   ]
  },
  {
   "cell_type": "code",
   "execution_count": null,
   "id": "200af8ac",
   "metadata": {},
   "outputs": [],
   "source": [
    "num_data"
   ]
  },
  {
   "cell_type": "code",
   "execution_count": null,
   "id": "10a88242",
   "metadata": {},
   "outputs": [],
   "source": [
    "sns.scatterplot(data=num_data,x='AMT_CREDIT',y='CNT_CHILDREN',hue='TARGET')\n"
   ]
  },
  {
   "cell_type": "code",
   "execution_count": null,
   "id": "a9650425",
   "metadata": {},
   "outputs": [],
   "source": [
    "amt_var = num_data[['AMT_INCOME_TOTAL','AMT_CREDIT','AMT_ANNUITY','AMT_GOODS_PRICE','TARGET']]"
   ]
  },
  {
   "cell_type": "code",
   "execution_count": null,
   "id": "ca263730",
   "metadata": {
    "scrolled": true
   },
   "outputs": [],
   "source": [
    "sns.pairplot(data=amt_var,hue='TARGET')"
   ]
  },
  {
   "cell_type": "markdown",
   "id": "717fbeeb",
   "metadata": {},
   "source": [
    "# Previous Data"
   ]
  },
  {
   "cell_type": "code",
   "execution_count": null,
   "id": "d767f737",
   "metadata": {},
   "outputs": [],
   "source": [
    "null_count = pd.DataFrame(prev_app.isnull().sum().sort_values(ascending=False)/prev_app.shape[0]*100).reset_index().rename(columns={'index':'var',\n",
    "                                                                                                                                   0:'count_pct'})"
   ]
  },
  {
   "cell_type": "code",
   "execution_count": null,
   "id": "f0db499c",
   "metadata": {},
   "outputs": [],
   "source": [
    "null_count"
   ]
  },
  {
   "cell_type": "code",
   "execution_count": null,
   "id": "41d44781",
   "metadata": {},
   "outputs": [],
   "source": [
    "var_msng_ge_40 = list(null_count[null_count['count_pct']>=40]['var'])\n",
    "var_msng_ge_40"
   ]
  },
  {
   "cell_type": "code",
   "execution_count": null,
   "id": "5801c2b5",
   "metadata": {},
   "outputs": [],
   "source": [
    "nva_cols = var_msng_ge_40+['WEEKDAY_APPR_PROCESS_START','HOUR_APPR_PROCESS_START','FLAG_LAST_APPL_PER_CONTRACT','NFLAG_LAST_APPL_IN_DAY']\n",
    "len(nva_cols)"
   ]
  },
  {
   "cell_type": "code",
   "execution_count": null,
   "id": "283b2af4",
   "metadata": {},
   "outputs": [],
   "source": [
    "len(prev_app.columns)"
   ]
  },
  {
   "cell_type": "code",
   "execution_count": null,
   "id": "3ce9d4fc",
   "metadata": {},
   "outputs": [],
   "source": [
    "prev_app_nva_col_rmvd = prev_app.drop(labels=nva_cols,axis=1)"
   ]
  },
  {
   "cell_type": "code",
   "execution_count": null,
   "id": "cf9b50f4",
   "metadata": {},
   "outputs": [],
   "source": [
    "len(prev_app_nva_col_rmvd.columns)"
   ]
  },
  {
   "cell_type": "code",
   "execution_count": null,
   "id": "37d1d3ac",
   "metadata": {},
   "outputs": [],
   "source": [
    "prev_app_nva_col_rmvd.columns"
   ]
  },
  {
   "cell_type": "code",
   "execution_count": null,
   "id": "52de27ff",
   "metadata": {},
   "outputs": [],
   "source": [
    "\n",
    "prev_app_nva_col_rmvd.head()"
   ]
  },
  {
   "cell_type": "code",
   "execution_count": null,
   "id": "822c6ffb",
   "metadata": {},
   "outputs": [],
   "source": [
    "\n",
    "prev_app_nva_col_rmvd.isnull().sum().sort_values(ascending=False)/prev_app_nva_col_rmvd.shape[0]*100"
   ]
  },
  {
   "cell_type": "code",
   "execution_count": null,
   "id": "acc2c80d",
   "metadata": {},
   "outputs": [],
   "source": [
    "\n",
    "prev_app_nva_col_rmvd['AMT_GOODS_PRICE'].agg(func=['mean','median'])\n"
   ]
  },
  {
   "cell_type": "code",
   "execution_count": null,
   "id": "9396888c",
   "metadata": {},
   "outputs": [],
   "source": [
    "prev_app_nva_col_rmvd['AMT_GOODS_PRICE'].mode()"
   ]
  },
  {
   "cell_type": "code",
   "execution_count": null,
   "id": "a4a61e22",
   "metadata": {},
   "outputs": [],
   "source": [
    "prev_app_nva_col_rmvd['AMT_GOODS_PRICE_MEDIAN'] = prev_app_nva_col_rmvd['AMT_GOODS_PRICE'].fillna(prev_app_nva_col_rmvd['AMT_GOODS_PRICE'].median())"
   ]
  },
  {
   "cell_type": "code",
   "execution_count": null,
   "id": "26bfe497",
   "metadata": {},
   "outputs": [],
   "source": [
    "prev_app_nva_col_rmvd['AMT_GOODS_PRICE_MEAN'] = prev_app_nva_col_rmvd['AMT_GOODS_PRICE'].fillna(prev_app_nva_col_rmvd['AMT_GOODS_PRICE'].mean())\n"
   ]
  },
  {
   "cell_type": "code",
   "execution_count": null,
   "id": "8f17e8df",
   "metadata": {},
   "outputs": [],
   "source": [
    "prev_app_nva_col_rmvd['AMT_GOODS_PRICE_MODE'] = prev_app_nva_col_rmvd['AMT_GOODS_PRICE'].fillna(prev_app_nva_col_rmvd['AMT_GOODS_PRICE'].mode()[0])"
   ]
  },
  {
   "cell_type": "code",
   "execution_count": null,
   "id": "24380afd",
   "metadata": {},
   "outputs": [],
   "source": [
    "gp_cols = ['AMT_GOODS_PRICE','AMT_GOODS_PRICE_MEDIAN','AMT_GOODS_PRICE_MEAN','AMT_GOODS_PRICE_MODE']"
   ]
  },
  {
   "cell_type": "code",
   "execution_count": null,
   "id": "cecaf602",
   "metadata": {},
   "outputs": [],
   "source": [
    "plt.figure(figsize=(10,5))\n",
    "\n",
    "for i, col in enumerate(gp_cols):\n",
    "    plt.subplot(2,2,i+1)\n",
    "    sns.kdeplot(data=prev_app_nva_col_rmvd,x=col)\n",
    "    plt.subplots_adjust(wspace=0.5,hspace=0.5)  #choose the method which is close to the original values i,e Median"
   ]
  },
  {
   "cell_type": "code",
   "execution_count": null,
   "id": "3223b815",
   "metadata": {},
   "outputs": [],
   "source": [
    "prev_app_nva_col_rmvd['AMT_GOODS_PRICE'] = prev_app_nva_col_rmvd['AMT_GOODS_PRICE'].fillna(prev_app_nva_col_rmvd['AMT_GOODS_PRICE'].median())\n",
    "\n"
   ]
  },
  {
   "cell_type": "code",
   "execution_count": null,
   "id": "9aecf023",
   "metadata": {},
   "outputs": [],
   "source": [
    "prev_app_nva_col_rmvd['AMT_GOODS_PRICE'].isnull().sum()\n"
   ]
  },
  {
   "cell_type": "code",
   "execution_count": null,
   "id": "3d53260b",
   "metadata": {},
   "outputs": [],
   "source": [
    "prev_app_nva_col_rmvd['AMT_ANNUITY'].agg(func=['mean','median','max'])"
   ]
  },
  {
   "cell_type": "code",
   "execution_count": null,
   "id": "df110d27",
   "metadata": {},
   "outputs": [],
   "source": [
    "prev_app_nva_col_rmvd['AMT_ANNUITY'] = prev_app_nva_col_rmvd['AMT_ANNUITY'].fillna(prev_app_nva_col_rmvd['AMT_ANNUITY'].median())"
   ]
  },
  {
   "cell_type": "code",
   "execution_count": null,
   "id": "eabbbace",
   "metadata": {},
   "outputs": [],
   "source": [
    "prev_app_nva_col_rmvd['PRODUCT_COMBINATION'] = prev_app_nva_col_rmvd['PRODUCT_COMBINATION'].fillna(prev_app_nva_col_rmvd['PRODUCT_COMBINATION'].mode()[0])\n"
   ]
  },
  {
   "cell_type": "code",
   "execution_count": null,
   "id": "eb4885ea",
   "metadata": {},
   "outputs": [],
   "source": [
    "prev_app_nva_col_rmvd['CNT_PAYMENT'].agg(func=['mean','median','max'])\n"
   ]
  },
  {
   "cell_type": "code",
   "execution_count": null,
   "id": "03c1e470",
   "metadata": {},
   "outputs": [],
   "source": [
    "prev_app_nva_col_rmvd[prev_app_nva_col_rmvd['CNT_PAYMENT'].isnull()].groupby(['NAME_CONTRACT_STATUS']).size().sort_values(ascending=False)\n",
    "\n",
    "\n"
   ]
  },
  {
   "cell_type": "code",
   "execution_count": null,
   "id": "e65eb170",
   "metadata": {},
   "outputs": [],
   "source": [
    "\n",
    "prev_app_nva_col_rmvd['CNT_PAYMENT'] = prev_app_nva_col_rmvd['CNT_PAYMENT'].fillna(0)\n"
   ]
  },
  {
   "cell_type": "code",
   "execution_count": null,
   "id": "c08fde7a",
   "metadata": {},
   "outputs": [],
   "source": [
    "prev_app_nva_col_rmvd.isnull().sum().sort_values(ascending=False)\n"
   ]
  },
  {
   "cell_type": "code",
   "execution_count": null,
   "id": "274db1bf",
   "metadata": {},
   "outputs": [],
   "source": [
    "prev_app_nva_col_rmvd = prev_app_nva_col_rmvd.drop(labels=['AMT_GOODS_PRICE_MEDIAN','AMT_GOODS_PRICE_MEAN','AMT_GOODS_PRICE_MODE'],axis=1)\n"
   ]
  },
  {
   "cell_type": "code",
   "execution_count": null,
   "id": "1b7c0c7e",
   "metadata": {},
   "outputs": [],
   "source": [
    "prev_app_nva_col_rmvd.isnull().sum().sort_values(ascending=False)\n"
   ]
  },
  {
   "cell_type": "code",
   "execution_count": null,
   "id": "bc0e252c",
   "metadata": {},
   "outputs": [],
   "source": [
    "len(prev_app_nva_col_rmvd.columns)\n"
   ]
  },
  {
   "cell_type": "code",
   "execution_count": null,
   "id": "e3bfaa1a",
   "metadata": {},
   "outputs": [],
   "source": [
    "prev_app_nva_col_rmvd.head()"
   ]
  },
  {
   "cell_type": "code",
   "execution_count": null,
   "id": "57b47893",
   "metadata": {},
   "outputs": [],
   "source": [
    "\n",
    "\n",
    "merged_df = pd.merge(app_score_col_remove,prev_app_nva_col_rmvd,how='inner',on='SK_ID_CURR')\n",
    "merged_df.head()\n"
   ]
  },
  {
   "cell_type": "code",
   "execution_count": null,
   "id": "ed6a99b6",
   "metadata": {},
   "outputs": [],
   "source": [
    "plt.figure(figsize=(15,5))\n",
    "\n",
    "sns.countplot(data=merged_df,x='NAME_CASH_LOAN_PURPOSE',hue='NAME_CONTRACT_STATUS')\n",
    "plt.xticks(rotation=90)\n",
    "plt.yscale('log')\n"
   ]
  },
  {
   "cell_type": "code",
   "execution_count": null,
   "id": "16a3c892",
   "metadata": {},
   "outputs": [],
   "source": [
    "sns.countplot(data=merged_df,x='NAME_CONTRACT_STATUS',hue='TARGET')"
   ]
  },
  {
   "cell_type": "code",
   "execution_count": null,
   "id": "80088fad",
   "metadata": {},
   "outputs": [],
   "source": [
    "merged_agg = merged_df.groupby(['NAME_CONTRACT_STATUS','TARGET']).size().reset_index().rename(columns={0:'counts'})\n",
    "sum_df  = merged_agg.groupby(['NAME_CONTRACT_STATUS'])['counts'].sum().reset_index()\n",
    "\n",
    "merged_agg_2 = pd.merge(merged_agg,sum_df,how='left',on='NAME_CONTRACT_STATUS')\n",
    "merged_agg_2['pct'] = round(merged_agg_2['counts_x']/merged_agg_2['counts_y']*100,2)\n",
    "merged_agg_2\n"
   ]
  },
  {
   "cell_type": "code",
   "execution_count": null,
   "id": "64606fad",
   "metadata": {},
   "outputs": [],
   "source": [
    "sns.lineplot(data=merged_df,x='NAME_CONTRACT_STATUS',y='AMT_INCOME_TOTAL',ci=None,hue='TARGET')\n",
    "\n"
   ]
  },
  {
   "cell_type": "code",
   "execution_count": null,
   "id": "cc1de1ae",
   "metadata": {},
   "outputs": [],
   "source": [
    "\n",
    "len(merged_df.columns)"
   ]
  },
  {
   "cell_type": "code",
   "execution_count": null,
   "id": "8c565865",
   "metadata": {},
   "outputs": [],
   "source": [
    "# # All the analysis\n",
    "\n",
    "# most of the customers have taken cash loan\n",
    "# customers who have taken cash loans are less likely to default\n",
    "# \n",
    "# CODE_GENDER - \n",
    "# \n",
    "#     most of the loans have been taken by female\n",
    "#     default rate for females are just ~7% which is safer and lesser than male\n",
    "# \n",
    "# NAME_TYPE_SUITE - \n",
    "# \n",
    "#     unacompanied people had tanke most of the loans and the default rate is ~8.5% which is still okay\n",
    "# \n",
    "# NAME_INCOME_TYPE - \n",
    "# \n",
    "#     the safest segments are working, commercial associates and pensioners\n",
    "# \n",
    "# NAME_EDUCATION_TYPE - \n",
    "# \n",
    "#     Higher education is the safest segment to give the loan with a default rate of less than 5%\n",
    "# \n",
    "# NAME_FAMILY_STATUS - \n",
    "# \n",
    "#     Married people are safe to target, default rate is 8%\n",
    "# \n",
    "# \n",
    "# NAME_HOUSING_TYPE - \n",
    "# \n",
    "#     People having house/appartment are safe to give the loan with default rate of ~8%\n",
    "# \n",
    "# OCCUPATION_TYPE - \n",
    "# \n",
    "#     Low-Skill Laboreres and drivers are highest defaulters\n",
    "#     Accountants are less defaulters\n",
    "#     Core staff, Managers and Laborers are safer to target with a default rate of <= 7.5 to 10%\n",
    "# \n",
    "# ORGANIZATION_TYPE - \n",
    "# \n",
    "#     Transport type 3 highest defaulter\n",
    "#     Others, Business Entity Type 3, Self Employed are good to go with default rate around 10 %\n",
    "# \n",
    "# =======univariate numeric variables analysis========\n",
    "# \n",
    "#     >> most of the loans were given for the goods price ranging between 0 to 1 ml\n",
    "#     >> most of the loans were given for the credit amount of 0 to 1 ml\n",
    "#     >> most of the customers are paying annuity of 0 to 50 K\n",
    "#     >> mostly the customers have income between 0 to 1 ml\n",
    "# \n",
    "# =============bivariate analysis==================\n",
    "# \n",
    "#     >> AMT_CREDIT and AMT_GOODS_PRICE are linearly corelated, if the AMT_CREDIT increases the defaulters are decreasing\n",
    "#     >> people having income less than or equals to 1 ml, are more like to take loans out of which who are taking loan of less than 1.5 million, coudl turn out to be defaulters. we can target income below 1 million and loan maount greater than 1.5 million\n",
    "#     >> people having children 1 to less than 5 are safer to give the loan\n",
    "#     >> People who can pay the annuity of 100K are more like to get the loan and that's upto less than 2ml (safer segment)\n",
    "# \n",
    "# ============analysis on merged data==============\n",
    "# \n",
    "#     >> for the repairing purpose customers had applied mostly prev. and the same puspose has most number of cancelations\n",
    "#     >> most of the app. which were prev. either canceled or refused 80-90% of them are repayer in the current data\n",
    "#     >> offers which were unused prev. now have maximum number of defaulters despite of having high income band customers\n",
    "\n"
   ]
  },
  {
   "cell_type": "raw",
   "id": "2e278a20",
   "metadata": {},
   "source": [
    "# # Final Conclusion/Insights\n",
    "\n",
    "# Bank should target the customers\n",
    "# \n",
    "#     >> having low income i.e. below 1 ml\n",
    "#     >> working in Others, Business Entity Type 3, Self Employed  org. type\n",
    "#     >> working as Accountants, Core staff, Managers and Laborers \n",
    "#     >> having house/appartment and are married and having children not more than 5\n",
    "#     >> Highly educated\n",
    "#     >> preferably female\n",
    "# \n",
    "#     >> unacompanied people can be safer -  default rate is ~8.5%\n",
    "# \n",
    "# Amount segment recommended -\n",
    "# \n",
    "#     >> the credit amount should not be more than 1 ml\n",
    "#     >> annuity can be made of 50K (depending on the eligibility)\n",
    "#     >> income bracket could be below 1 ml\n",
    "# \n",
    "#     >> 80-90% of the customer who were prev. canceled/refused, are repayers. Bank can do the analysis and can consider to give loan to these segments\n",
    "# \n",
    "# \n",
    "# ====================precautions===============\n",
    "# \n",
    "#     >> org. Transport type 3 should be avoided\n",
    "#     >> Low-Skill Laboreres and drivers  should be avoided\n",
    "#     >> offers prev. unused and high income customer should be avoided"
   ]
  },
  {
   "cell_type": "code",
   "execution_count": null,
   "id": "00f8ffe1",
   "metadata": {},
   "outputs": [],
   "source": []
  }
 ],
 "metadata": {
  "kernelspec": {
   "display_name": "Python 3 (ipykernel)",
   "language": "python",
   "name": "python3"
  },
  "language_info": {
   "codemirror_mode": {
    "name": "ipython",
    "version": 3
   },
   "file_extension": ".py",
   "mimetype": "text/x-python",
   "name": "python",
   "nbconvert_exporter": "python",
   "pygments_lexer": "ipython3",
   "version": "3.10.9"
  }
 },
 "nbformat": 4,
 "nbformat_minor": 5
}
